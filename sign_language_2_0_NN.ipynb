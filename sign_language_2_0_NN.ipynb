{
  "nbformat": 4,
  "nbformat_minor": 0,
  "metadata": {
    "colab": {
      "name": "sign_language_2.0_NN.ipynb",
      "provenance": [],
      "collapsed_sections": [],
      "toc_visible": true,
      "include_colab_link": true
    },
    "kernelspec": {
      "name": "python3",
      "display_name": "Python 3"
    },
    "accelerator": "TPU"
  },
  "cells": [
    {
      "cell_type": "markdown",
      "metadata": {
        "id": "view-in-github",
        "colab_type": "text"
      },
      "source": [
        "<a href=\"https://colab.research.google.com/github/rgenius-ru/sign_language_2.0_NN/blob/master/sign_language_2_0_NN.ipynb\" target=\"_parent\"><img src=\"https://colab.research.google.com/assets/colab-badge.svg\" alt=\"Open In Colab\"/></a>"
      ]
    },
    {
      "cell_type": "markdown",
      "metadata": {
        "colab_type": "text",
        "id": "jYysdyb-CaWM"
      },
      "source": [
        "# Нейросеть, распознающая жестовый язык. РобоАрт 2020."
      ]
    },
    {
      "cell_type": "markdown",
      "metadata": {
        "colab_type": "text",
        "id": "S5Uhzt6vVIB2"
      },
      "source": [
        "<table class=\"tfo-notebook-buttons\" align=\"left\">\n",
        "  <td>\n",
        "    <a target=\"_blank\" href=\"https://www.tensorflow.org/tutorials/keras/classification\"><img src=\"https://www.tensorflow.org/images/tf_logo_32px.png\" />Пример Fashion MNIST</a>\n",
        "  </td>\n",
        "  <td>\n",
        "    <a target=\"_blank\" href=\"https://drive.google.com/open?id=1ch_h_dsVkFnL05sOe9lQqLUbGen95z8o\"><img src=\"https://www.tensorflow.org/images/colab_logo_32px.png\" />Запустите в Google Colab</a>\n",
        "  </td>\n",
        "  <td>\n",
        "    <a target=\"_blank\" href=\"https://github.com/tensorflow/docs/blob/master/site/ru/tutorials/keras/classification.ipynb\"><img src=\"https://www.tensorflow.org/images/GitHub-Mark-32px.png\" />Изучайте код на GitHub</a>\n",
        "  </td>\n",
        "  <td>\n",
        "    <a href=\"https://storage.googleapis.com/tensorflow_docs/docs/site/ru/tutorials/keras/classification.ipynb\"><img src=\"https://www.tensorflow.org/images/download_logo_32px.png\" />Скачайте ноутбук</a>\n",
        "  </td>\n",
        "</table>"
      ]
    },
    {
      "cell_type": "markdown",
      "metadata": {
        "id": "q-V4Sco12CsU",
        "colab_type": "text"
      },
      "source": [
        "## Описание проекта"
      ]
    },
    {
      "cell_type": "markdown",
      "metadata": {
        "id": "fj66ZXAzrJC2",
        "colab_type": "text"
      },
      "source": [
        "**Школа дополнительного образования \"Хобби-Робби\" 2020г.**\n",
        "\n",
        "Авторы проекта:\n",
        "\n",
        "*   руководитель Селивёрстов Сергей\n",
        "*   ученик Столповский Алексей\n",
        "*   ученик Кондрашов Артём\n",
        "*   ученик Лазарев Матвей\n",
        "*   ученик Гумников Александр\n",
        "*   ученик Фёдоров Владислав\n",
        "*   ученик Трофимов Илья\n",
        "\n",
        "почта\n",
        "[rgenius@yandex.ru](mailto:rgenius@yandex.ru)\n",
        "\n",
        "группа в VK\n",
        "[vk.com/hobbi_robbi](https://vk.com/hobbi_robbi)"
      ]
    },
    {
      "cell_type": "markdown",
      "metadata": {
        "colab_type": "text",
        "id": "FbVhjPpzn6BM"
      },
      "source": [
        "Наша нейросеть классифицирует изображения жестов алфавитного русского жестового языка, например, А, В, Г и другие. \n",
        "\n",
        "Данная нейросеть написана на примерах по классифицированию одежды из популярного набора данных Fashion MNIST. \n",
        "\n",
        "На текущий момент нейросеть умеет распознавать только 10 жестов русских букв. Жесты были специально выбраны простые и без движений, т.к. это только первоначальный этап нашего проекта.\n",
        "\n",
        "В дальнейшем мы увеличим количество распознаваемых букв до всего алфавита, в том числе и жесты букв для обозначения  которых используется движение. \n",
        "\n",
        "И следующим этапом будет распознавание не только статичных фотографий, а и потокового видео с камеры."
      ]
    },
    {
      "cell_type": "markdown",
      "metadata": {
        "id": "djjRM5aDJpxt",
        "colab_type": "text"
      },
      "source": [
        "## Настройки и подготовка библиотек"
      ]
    },
    {
      "cell_type": "markdown",
      "metadata": {
        "id": "eo9OLdY9J17e",
        "colab_type": "text"
      },
      "source": [
        "Проверка версии библиотеки TensorFlow"
      ]
    },
    {
      "cell_type": "code",
      "metadata": {
        "colab_type": "code",
        "id": "jL3OqFKZ9dFg",
        "colab": {}
      },
      "source": [
        "try:\n",
        "  # Colab only\n",
        "  %tensorflow_version 2.x\n",
        "except Exception:\n",
        "    pass\n"
      ],
      "execution_count": 0,
      "outputs": []
    },
    {
      "cell_type": "markdown",
      "metadata": {
        "id": "iozbH2CkJ9_d",
        "colab_type": "text"
      },
      "source": [
        "Загрузка необходимых библиотек"
      ]
    },
    {
      "cell_type": "code",
      "metadata": {
        "colab_type": "code",
        "id": "dzLKpmZICaWN",
        "colab": {}
      },
      "source": [
        "from __future__ import absolute_import, division, print_function, unicode_literals\n",
        "\n",
        "# TensorFlow и tf.keras\n",
        "import tensorflow as tf\n",
        "from tensorflow import keras\n",
        "\n",
        "# Вспомогательные библиотеки\n",
        "import numpy as np\n",
        "import matplotlib.pyplot as plt\n",
        "\n",
        "print(tf.__version__)"
      ],
      "execution_count": 0,
      "outputs": []
    },
    {
      "cell_type": "markdown",
      "metadata": {
        "colab_type": "text",
        "id": "yR0EdgrLCaWR"
      },
      "source": [
        "## Загружаем датасет изображений"
      ]
    },
    {
      "cell_type": "markdown",
      "metadata": {
        "colab_type": "text",
        "id": "DLdCchMdCaWQ"
      },
      "source": [
        "Наша нейросеть использует датасет который содержит **40 000** монохромных изображений в **10** категориях. На каждом изображении содержится по одному жесту одной буквы в низком разрешении (**64** на **64** пикселей):\n",
        "\n",
        "<table>\n",
        "  <tr><td>\n",
        "    <img src=\"https://lh3.googleusercontent.com/URYP2Bi2p_8DFkybAyLU8CHVR5cNr1pexSdBKI5AbDy5IlECuoaBg9TikCIKnKS6YatAdkWtLxC_Ezvn6mWA13mnPyceM2dgt7xATOlbQ7CXExYqTZwuqbfSXFi1H-Cm61RQigEFnQ=w992-h611-no\"\n",
        "         alt=\"sign dataset sprite\"  width=\"600\">\n",
        "  </td></tr>\n",
        "  <tr><td align=\"center\">\n",
        "    <b>Figure 1.</b> <a href=\"https://lh3.googleusercontent.com/URYP2Bi2p_8DFkybAyLU8CHVR5cNr1pexSdBKI5AbDy5IlECuoaBg9TikCIKnKS6YatAdkWtLxC_Ezvn6mWA13mnPyceM2dgt7xATOlbQ7CXExYqTZwuqbfSXFi1H-Cm61RQigEFnQ=w992-h611-no\"> Увеличить </a> (Лицензия GNU v3.0).<br/>&nbsp;\n",
        "  </td></tr>\n",
        "</table>\n",
        "\n",
        "Датасет содержит изображения **10** жестов алфавитного русского жестового языка (**А, В, Г, Е, И, Л, М, П, Т, У**).\n",
        "\n",
        "Мы используем **35 000** изображений для обучения нейросети и **5 000** изображений чтобы проверить, насколько правильно сеть обучилась их классифицировать."
      ]
    },
    {
      "cell_type": "markdown",
      "metadata": {
        "id": "-hIyPB9a3wLG",
        "colab_type": "text"
      },
      "source": [
        "### Подключаем Google Диск"
      ]
    },
    {
      "cell_type": "markdown",
      "metadata": {
        "id": "uUFy70sE33sD",
        "colab_type": "text"
      },
      "source": [
        "Наш набор данных с фотографиями находится на Google Диске. Подключаем его к нашей runtime сессии. При подключении необходимо перейти по ссылке `Go to this URL in a browser:`, дать доступ к акккаунту и скопировать код в поле ввода `Enter your authorization code:` "
      ]
    },
    {
      "cell_type": "code",
      "metadata": {
        "id": "5zyyQ9544qLK",
        "colab_type": "code",
        "colab": {}
      },
      "source": [
        "from google.colab import drive\n",
        "drive.mount('/content/drive')"
      ],
      "execution_count": 0,
      "outputs": []
    },
    {
      "cell_type": "markdown",
      "metadata": {
        "id": "dXI33yTUObfO",
        "colab_type": "text"
      },
      "source": [
        "### Загружаем фото"
      ]
    },
    {
      "cell_type": "markdown",
      "metadata": {
        "id": "MJv4M82pQsDC",
        "colab_type": "text"
      },
      "source": [
        "Загрузка массива ***numpy array*** из упакованного файла формата ***npz***. Наш набор данных был сформирован из **40 000** файлов изображений. Все изображения предварительно были упакованы в один файл формата ***npz***"
      ]
    },
    {
      "cell_type": "code",
      "metadata": {
        "id": "a9G6_Hl3TRYy",
        "colab_type": "code",
        "colab": {}
      },
      "source": [
        "from numpy import load\n",
        "\n",
        "# загрузка словаря \"dict\" массивов \"arrays\"\n",
        "dict_images = load('drive/My Drive/Colab Notebooks/roboart2020/dataset/dataset_images.npz')\n",
        "dict_labels = load('drive/My Drive/Colab Notebooks/roboart2020/dataset/dataset_labels.npz')\n",
        "\n",
        "# bpdktxtybt массива \"array\"\n",
        "images = dict_images['arr_0']\n",
        "labels = dict_labels['arr_0']\n",
        "\n",
        "# Вывод типа данных маччива array и его формы\n",
        "print('images', type(images), images.shape)\n",
        "print('labels', type(images), labels.shape)"
      ],
      "execution_count": 0,
      "outputs": []
    },
    {
      "cell_type": "markdown",
      "metadata": {
        "id": "aUkK-2JgJAXx",
        "colab_type": "text"
      },
      "source": [
        "### Разделяем набор данных"
      ]
    },
    {
      "cell_type": "markdown",
      "metadata": {
        "id": "AMpovlqZG5uF",
        "colab_type": "text"
      },
      "source": [
        "Для разделения нашего набора данных из **40 000** фото и меток на **обучающую** и **тестовую** выборку воспользуемся функцией `train_test_split` из библиотеки `sklearn`. Соотношение обучающего и тестового набора сделаем в пропорции: **5 / 40 = 0,125**. Так как эта функция одновременно с разделением ещё и перемешивает наборы данных, зафиксируем состояние случайности на уровне `random_state` для повторяемости результатов."
      ]
    },
    {
      "cell_type": "code",
      "metadata": {
        "id": "23oGiKkNHgPg",
        "colab_type": "code",
        "colab": {}
      },
      "source": [
        "from sklearn.model_selection import train_test_split\n",
        "\n",
        "train_images, test_images, train_labels, test_labels = train_test_split(\n",
        "    images, labels, test_size=5./40, random_state=42)"
      ],
      "execution_count": 0,
      "outputs": []
    },
    {
      "cell_type": "markdown",
      "metadata": {
        "id": "ZH5HVP4Mjyoc",
        "colab_type": "text"
      },
      "source": [
        "Посмотрим на размер массивов"
      ]
    },
    {
      "cell_type": "code",
      "metadata": {
        "colab_type": "code",
        "id": "7MqDQO0KCaWS",
        "colab": {}
      },
      "source": [
        "print(train_images.shape)\n",
        "print(train_labels.shape)\n",
        "print(test_images.shape)\n",
        "print(test_labels.shape)"
      ],
      "execution_count": 0,
      "outputs": []
    },
    {
      "cell_type": "markdown",
      "metadata": {
        "colab_type": "text",
        "id": "t9FDsUlxCaWW"
      },
      "source": [
        "Загрузка датасета возвращает четыре массива NumPy:\n",
        "\n",
        "* Массивы `train_images` и `train_labels` являются *обучающим набором* — данными, на которых модель будет обучаться.\n",
        "* Модель тестируется на *тестовом наборе*, а именно массивах `test_images` и `test_labels`.\n",
        "\n",
        "Изображения являются **64х64** массивами NumPy, где значение пикселей варьируется **от 0 до 255**. *Метки (labels)* - это массив целых чисел от **0** до **9**. Они соответствуют *классам* букв изображенных на картинках:\n",
        "\n",
        "<table>\n",
        "  <tr>\n",
        "    <th>Label</th>\n",
        "    <th>Class</th>\n",
        "  </tr>\n",
        "  <tr>\n",
        "    <td>0</td>\n",
        "    <td>А</td>\n",
        "  </tr>\n",
        "  <tr>\n",
        "    <td>1</td>\n",
        "    <td>В</td>\n",
        "  </tr>\n",
        "    <tr>\n",
        "    <td>2</td>\n",
        "    <td>Г</td>\n",
        "  </tr>\n",
        "    <tr>\n",
        "    <td>3</td>\n",
        "    <td>Е</td>\n",
        "  </tr>\n",
        "    <tr>\n",
        "    <td>4</td>\n",
        "    <td>И</td>\n",
        "  </tr>\n",
        "    <tr>\n",
        "    <td>5</td>\n",
        "    <td>Л</td>\n",
        "  </tr>\n",
        "    <tr>\n",
        "    <td>6</td>\n",
        "    <td>М</td>\n",
        "  </tr>\n",
        "    <tr>\n",
        "    <td>7</td>\n",
        "    <td>П</td>\n",
        "  </tr>\n",
        "    <tr>\n",
        "    <td>8</td>\n",
        "    <td>Т</td>\n",
        "  </tr>\n",
        "    <tr>\n",
        "    <td>9</td>\n",
        "    <td>У</td>\n",
        "  </tr>\n",
        "</table>\n",
        "\n",
        "Каждому изображению соответствует единственная метка. Так как *названия классов* не включены в датасет, сохраним их тут для дальнейшего использования при построении изображений:"
      ]
    },
    {
      "cell_type": "code",
      "metadata": {
        "colab_type": "code",
        "id": "IjnLH5S2CaWx",
        "colab": {}
      },
      "source": [
        "class_names = ['А', 'В', 'Г', 'Е', 'И', 'Л', 'М', 'П', 'Т', 'У']"
      ],
      "execution_count": 0,
      "outputs": []
    },
    {
      "cell_type": "markdown",
      "metadata": {
        "colab_type": "text",
        "id": "Brm0b_KACaWX"
      },
      "source": [
        "## Изучим данные\n",
        "\n",
        "Давайте посмотрим на формат данных перед обучением модели. Воспользовавшись shape мы видим, что в тренировочном датасете **35 000** изображений, каждое размером **64 x 64** пикселей:"
      ]
    },
    {
      "cell_type": "code",
      "metadata": {
        "colab_type": "code",
        "id": "zW5k_xz1CaWX",
        "colab": {}
      },
      "source": [
        "train_images.shape"
      ],
      "execution_count": 0,
      "outputs": []
    },
    {
      "cell_type": "markdown",
      "metadata": {
        "colab_type": "text",
        "id": "cIAcvQqMCaWf"
      },
      "source": [
        "Соответственно, в тренировочном сете **35 000** меток:"
      ]
    },
    {
      "cell_type": "code",
      "metadata": {
        "colab_type": "code",
        "id": "TRFYHB2mCaWb",
        "colab": {}
      },
      "source": [
        "len(train_labels)"
      ],
      "execution_count": 0,
      "outputs": []
    },
    {
      "cell_type": "markdown",
      "metadata": {
        "colab_type": "text",
        "id": "YSlYxFuRCaWk"
      },
      "source": [
        "Каждая метка это целое число от **0** до **9**:"
      ]
    },
    {
      "cell_type": "code",
      "metadata": {
        "colab_type": "code",
        "id": "XKnCTHz4CaWg",
        "colab": {}
      },
      "source": [
        "train_labels"
      ],
      "execution_count": 0,
      "outputs": []
    },
    {
      "cell_type": "markdown",
      "metadata": {
        "colab_type": "text",
        "id": "TMPI88iZpO2T"
      },
      "source": [
        "Проверочный сет содержит **5 000** изображений, каждое - также **64** на **64** пикселей:"
      ]
    },
    {
      "cell_type": "code",
      "metadata": {
        "colab_type": "code",
        "id": "2KFnYlcwCaWl",
        "colab": {}
      },
      "source": [
        "test_images.shape"
      ],
      "execution_count": 0,
      "outputs": []
    },
    {
      "cell_type": "markdown",
      "metadata": {
        "colab_type": "text",
        "id": "rd0A0Iu0CaWq"
      },
      "source": [
        "И в проверочном сете - ровно **5 000** меток:"
      ]
    },
    {
      "cell_type": "code",
      "metadata": {
        "colab_type": "code",
        "id": "iJmPr5-ACaWn",
        "colab": {}
      },
      "source": [
        "len(test_labels)"
      ],
      "execution_count": 0,
      "outputs": []
    },
    {
      "cell_type": "markdown",
      "metadata": {
        "colab_type": "text",
        "id": "ES6uQoLKCaWr"
      },
      "source": [
        "## Предобработаем данные\n",
        "\n",
        "Данные должны быть предобработаны перед обучением нейросети. Если мы посмотрим на первое изображение в тренировочном сете мы увидим, что значения пикселей находятся в диапазоне от **0** до **255**:"
      ]
    },
    {
      "cell_type": "code",
      "metadata": {
        "colab_type": "code",
        "id": "m4VEw8Ud9Quh",
        "colab": {}
      },
      "source": [
        "plt.figure()\n",
        "plt.imshow(train_images[0])\n",
        "plt.colorbar()\n",
        "plt.grid(False)\n",
        "plt.show()"
      ],
      "execution_count": 0,
      "outputs": []
    },
    {
      "cell_type": "markdown",
      "metadata": {
        "id": "gsLhnWIaXgei",
        "colab_type": "text"
      },
      "source": [
        "Чтобы убедиться, что данные в правильном формате и мы готовы построить и обучить нейросеть, выведем на экран первые 25 изображений из тренировочного набора и отобразим под ними наименования их классов."
      ]
    },
    {
      "cell_type": "code",
      "metadata": {
        "id": "u0DTWtxnXfFV",
        "colab_type": "code",
        "colab": {}
      },
      "source": [
        "plt.figure(figsize=(10,10))\n",
        "for i in range(25):\n",
        "    plt.subplot(5,5,i+1)\n",
        "    plt.xticks([])\n",
        "    plt.yticks([])\n",
        "    plt.grid(False)\n",
        "    plt.imshow(train_images[i], cmap=plt.cm.binary)\n",
        "    plt.xlabel(class_names[train_labels[i]])\n",
        "plt.show()"
      ],
      "execution_count": 0,
      "outputs": []
    },
    {
      "cell_type": "markdown",
      "metadata": {
        "id": "dzZboFvC6X3c",
        "colab_type": "text"
      },
      "source": [
        "Преобразуем входные данные из формата (64, 64) в формат (64, 64, 1)"
      ]
    },
    {
      "cell_type": "code",
      "metadata": {
        "id": "k9iKvj9AbXUj",
        "colab_type": "code",
        "colab": {}
      },
      "source": [
        "width, height = 64, 64\n",
        "train_images = train_images.reshape(train_images.shape[0], width, height, 1)\n",
        "test_images = test_images.reshape(test_images.shape[0], width, height, 1)"
      ],
      "execution_count": 0,
      "outputs": []
    },
    {
      "cell_type": "markdown",
      "metadata": {
        "id": "6R4VzmBQ8aT2",
        "colab_type": "text"
      },
      "source": [
        "Преобразование меток десяти категорий из формата чисел:\n",
        "\n",
        "*   [9, 0, 0, ..., 3, 0, 5]\n",
        "\n",
        "в формат 10ти категорий, где 1 означает принадлежность к одной категории:\n",
        "\n",
        "*   [ [0., 0., 0., ..., 0., 0., 1.],\n",
        "*   [1., 0., 0., ..., 0., 0., 0.],\n",
        "*   [1., 0., 0., ..., 0., 0., 0.],\n",
        "*   ...,\n",
        "*   [0., 0., 0., ..., 0., 0., 0.],\n",
        "*   [1., 0., 0., ..., 0., 0., 0.],\n",
        "*   [0., 0., 0., ..., 0., 0., 0.] ]\n",
        "\n",
        "Сделаем это помощью команды `tf.keras.utils.to_categorical` входящей в состав библиотеки **keras**:"
      ]
    },
    {
      "cell_type": "code",
      "metadata": {
        "id": "CloLj1jGba4n",
        "colab_type": "code",
        "colab": {}
      },
      "source": [
        "train_labels = tf.keras.utils.to_categorical(train_labels, 10)\n",
        "test_labels = tf.keras.utils.to_categorical(test_labels, 10)"
      ],
      "execution_count": 0,
      "outputs": []
    },
    {
      "cell_type": "markdown",
      "metadata": {
        "id": "h0yndze68oHE",
        "colab_type": "text"
      },
      "source": [
        "Посмотрим на структуру и размер данных обучающей выборки"
      ]
    },
    {
      "cell_type": "code",
      "metadata": {
        "id": "nVRpGFaobeEf",
        "colab_type": "code",
        "colab": {}
      },
      "source": [
        "print(\"train_images shape:\", train_images.shape, \"train_labels shape:\", train_labels.shape)"
      ],
      "execution_count": 0,
      "outputs": []
    },
    {
      "cell_type": "markdown",
      "metadata": {
        "id": "9x24Zhx_9Fm-",
        "colab_type": "text"
      },
      "source": [
        "Посмотрим на размер обучающей и тестовой выборки"
      ]
    },
    {
      "cell_type": "code",
      "metadata": {
        "id": "_L1EiKhq9GQr",
        "colab_type": "code",
        "colab": {}
      },
      "source": [
        "print(train_images.shape[0], 'обучающий набор')\n",
        "print(test_images.shape[0], 'тестовый набор')"
      ],
      "execution_count": 0,
      "outputs": []
    },
    {
      "cell_type": "markdown",
      "metadata": {
        "id": "YFWmh4opcIUl",
        "colab_type": "text"
      },
      "source": [
        "Мы масштабируем эти значения к диапазону от 0 до 1 перед тем как скормить их нейросети. Для этого мы поделим значения на 255. Важно, чтобы *тренировочный набор* и *проверочный набор* были предобработаны одинаково:"
      ]
    },
    {
      "cell_type": "code",
      "metadata": {
        "id": "ERiRaQfRcDCL",
        "colab_type": "code",
        "colab": {}
      },
      "source": [
        "train_images = train_images.astype('float32') / 255.0\n",
        "test_images = test_images.astype('float32') / 255.0"
      ],
      "execution_count": 0,
      "outputs": []
    },
    {
      "cell_type": "markdown",
      "metadata": {
        "colab_type": "text",
        "id": "59veuiEZCaW4"
      },
      "source": [
        "## Построение модели\n",
        "\n",
        "Построение модели нейронной сети требует правильной конфигурации каждого слоя, и последующей компиляции модели."
      ]
    },
    {
      "cell_type": "markdown",
      "metadata": {
        "colab_type": "text",
        "id": "Gxg1XGm0eOBy"
      },
      "source": [
        "### Настройка слоев\n",
        "\n",
        "Базовым строительным блоком нейронной сети является *слой*. Слои извлекают образы из данных, которые в них подаются. Надеемся, что эти образы имеют смысл для решаемой задачи.\n",
        "\n",
        "Большая часть глубокого обучения состоит из соединения в последовательность простых слоев. Большинство слоев, таких как tf.keras.layers.Dense, имеют параметры, которые настраиваются во время обучения."
      ]
    },
    {
      "cell_type": "code",
      "metadata": {
        "colab_type": "code",
        "id": "9ODch-OFCaW4",
        "colab": {}
      },
      "source": [
        "model = keras.Sequential([\n",
        "    keras.layers.Conv2D(filters=64, kernel_size=2, padding='same', activation='relu', input_shape=(64,64,1)),\n",
        "    keras.layers.MaxPooling2D(pool_size=2),\n",
        "    keras.layers.Dropout(0.3),\n",
        "\n",
        "    keras.layers.Conv2D(filters=32, kernel_size=2, padding='same', activation='relu'),\n",
        "    keras.layers.MaxPooling2D(pool_size=2),\n",
        "    keras.layers.Dropout(0.3),\n",
        "    \n",
        "    keras.layers.Flatten(),\n",
        "    keras.layers.Dense(256, activation='relu'),\n",
        "    keras.layers.Dropout(0.5),\n",
        "    \n",
        "    keras.layers.Dense(10, activation='softmax')\n",
        "])"
      ],
      "execution_count": 0,
      "outputs": []
    },
    {
      "cell_type": "code",
      "metadata": {
        "id": "cffsiWf6SOJx",
        "colab_type": "code",
        "colab": {}
      },
      "source": [
        "model.summary()"
      ],
      "execution_count": 0,
      "outputs": []
    },
    {
      "cell_type": "markdown",
      "metadata": {
        "colab_type": "text",
        "id": "gut8A_7rCaW6"
      },
      "source": [
        "Эта нейросеть является **свёрточной** и состоит из трёх последовательных контуров, которые сами состоят из трёх слоёв: \n",
        "\n",
        "*   `keras.layers.Conv2D`\n",
        "*   `keras.layers.MaxPooling2D`\n",
        "*   `keras.layers.Dropout`\n",
        "\n",
        "В последнем контуре вместо слоя `keras.layers.Conv2D` используется `keras.layers.Flatten`, который преобразует формат изображения из двумерного массива в одномерный. Слой извлекает строки пикселей внутренних образов и выстраивает их в один ряд. Этот слой не имеет параметров для обучения, - он только переформатирует данные.\n",
        "\n",
        "В конце нейросеть содержит слой `tf.keras.layers.Dense`. Это полносвязный нейронный 10-узловой *softmax* слой возвращающий массив из 10 вероятностных оценок дающих в сумме 1. Каждый узел содержит оценку указывающую вероятность принадлежности изображения к одному из 10 классов.\n",
        "\n",
        "### Скомпилируем модель\n",
        "\n",
        "Прежде чем модель будет готова для обучения, нам нужно указать еще несколько параметров. Они добавляются на шаге *compile* модели:\n",
        "\n",
        "* *Функция потерь (Loss function)* — измеряет точность модели во время обучения. Мы хотим минимизировать эту функцию чтоб \"направить\" модель в верном направлении.\n",
        "* *Оптимизатор (Optimizer)*  — показывает каким образом обновляется модель на основе входных данных и функции потерь.\n",
        "* *Метрики (Metrics)* — используются для мониторинга тренировки и тестирования модели. Наш пример использует метрику *accuracy* равную доле правильно классифицированных изображений."
      ]
    },
    {
      "cell_type": "code",
      "metadata": {
        "id": "KjihFNL9SgVF",
        "colab_type": "code",
        "colab": {}
      },
      "source": [
        "model.compile(\n",
        "    loss='categorical_crossentropy',\n",
        "    #loss='sparse_categorical_crossentropy',\n",
        "    optimizer='adam',\n",
        "    metrics=['accuracy']\n",
        "    )"
      ],
      "execution_count": 0,
      "outputs": []
    },
    {
      "cell_type": "markdown",
      "metadata": {
        "colab_type": "text",
        "id": "qKF6uW-BCaW-"
      },
      "source": [
        "## Обучаем нашу модель\n",
        "\n",
        "Обучение модели нейронной сети требует выполнения следующих шагов:\n",
        "\n",
        "1. Подать обучающий набор в модель. В нашем случае обучающий набор это массивы `train_images` и `train_labels`.\n",
        "2. Модель учится ассоциировать изображения с правильными классами.\n",
        "3. Мы просим модель сделать прогнозы для тестового набора , в этом примере массив test_images. Мы проверяем, соответствуют ли предсказанные классы меткам из массива test_labels.\n",
        "\n",
        "Для начала обучения, вызоваем метод `model.fit`, который называется так, поскольку \"тренирует (fits)\" модель на тренировочных данных:"
      ]
    },
    {
      "cell_type": "code",
      "metadata": {
        "colab_type": "code",
        "id": "xvwvpA64CaW_",
        "colab": {}
      },
      "source": [
        "model.fit(train_images,\n",
        "         train_labels,\n",
        "         batch_size=64,\n",
        "         epochs=1,\n",
        "         validation_data=(test_images, test_labels),\n",
        "         #callbacks=[checkpointer]\n",
        "          )"
      ],
      "execution_count": 0,
      "outputs": []
    },
    {
      "cell_type": "markdown",
      "metadata": {
        "colab_type": "text",
        "id": "W3ZVOhugCaXA"
      },
      "source": [
        "В процессе обучения модели отображаются метрики потери (loss) и точности (accuracy). Эта модель достигает на *обучающем наборе* точности равной приблизительно 0.91 (91%)."
      ]
    },
    {
      "cell_type": "markdown",
      "metadata": {
        "colab_type": "text",
        "id": "oEw4bZgGCaXB"
      },
      "source": [
        "## Оценим точность\n",
        "\n",
        "Далее, сравним какую точность модель покажет на *тестовом наборе*:"
      ]
    },
    {
      "cell_type": "code",
      "metadata": {
        "colab_type": "code",
        "id": "VflXLEeECaXC",
        "colab": {}
      },
      "source": [
        "test_loss, test_acc = model.evaluate(test_images,  test_labels, verbose=2)\n",
        "print('\\nТочность на проверочных данных:', test_acc)"
      ],
      "execution_count": 0,
      "outputs": []
    },
    {
      "cell_type": "markdown",
      "metadata": {
        "colab_type": "text",
        "id": "yWfgsmVXCaXG"
      },
      "source": [
        "Полученная точность на *тестовом наборе* может оказаться ниже, чем на *обучающем наборе*. Этот разрыв между точностью на тренировке и тесте является примером *переобучения (overfitting)* . Переобучение возникает, когда модель машинного обучения показывает на новых данных худший результат, чем на тех, на которых она обучалась."
      ]
    },
    {
      "cell_type": "markdown",
      "metadata": {
        "colab_type": "text",
        "id": "xsoS7CPDCaXH"
      },
      "source": [
        "## Сделаем предсказания\n",
        "\n",
        "Теперь, когда модель обучена, мы можем использовать ее чтобы сделать предсказания по поводу нескольких изображений:"
      ]
    },
    {
      "cell_type": "code",
      "metadata": {
        "colab_type": "code",
        "id": "Gl91RPhdCaXI",
        "colab": {}
      },
      "source": [
        "predictions = model.predict(test_images)"
      ],
      "execution_count": 0,
      "outputs": []
    },
    {
      "cell_type": "markdown",
      "metadata": {
        "colab_type": "text",
        "id": "x9Kk1voUCaXJ"
      },
      "source": [
        "Здесь полученная модель предсказала класс букв для каждого изображения в тестовом наборе. Посмотрим на первое предсказание:"
      ]
    },
    {
      "cell_type": "code",
      "metadata": {
        "colab_type": "code",
        "id": "3DmJEUinCaXK",
        "colab": {}
      },
      "source": [
        "predictions[0]"
      ],
      "execution_count": 0,
      "outputs": []
    },
    {
      "cell_type": "markdown",
      "metadata": {
        "colab_type": "text",
        "id": "-hw1hgeSCaXN"
      },
      "source": [
        "Прогноз представляет из себя массив из 10 чисел. Они описывают \"уверенность\" (confidence) модели в том, насколько изображение соответствует каждому из 10 разных жестов. Мы можем посмотреть какой метке соответствует максимальное значение:"
      ]
    },
    {
      "cell_type": "code",
      "metadata": {
        "colab_type": "code",
        "id": "qsqenuPnCaXO",
        "colab": {}
      },
      "source": [
        "np.argmax(predictions[0])"
      ],
      "execution_count": 0,
      "outputs": []
    },
    {
      "cell_type": "markdown",
      "metadata": {
        "colab_type": "text",
        "id": "E51yS7iCCaXO"
      },
      "source": [
        "Модель полагает, что на первой картинке изображен жест буквы ***В***, или ***class_names[1]***. Проверка показывает, что классификация верна:"
      ]
    },
    {
      "cell_type": "code",
      "metadata": {
        "colab_type": "code",
        "id": "Sd7Pgsu6CaXP",
        "colab": {}
      },
      "source": [
        "np.argmax(test_labels[0])"
      ],
      "execution_count": 0,
      "outputs": []
    },
    {
      "cell_type": "markdown",
      "metadata": {
        "colab_type": "text",
        "id": "ygh2yYC972ne"
      },
      "source": [
        "Мы можем построить график, чтобы взглянуть на полный набор из 10 предсказаний классов."
      ]
    },
    {
      "cell_type": "code",
      "metadata": {
        "colab_type": "code",
        "id": "DvYmmrpIy6Y1",
        "colab": {}
      },
      "source": [
        "def plot_image(i, predictions_array, true_label, img):\n",
        "  predictions_array, true_label, img = predictions_array[i], true_label[i], img[i]\n",
        "  plt.grid(False)\n",
        "  plt.xticks([])\n",
        "  plt.yticks([])\n",
        "\n",
        "  plt.imshow(img, cmap=plt.cm.binary)\n",
        "\n",
        "  predicted_label = np.argmax(predictions_array)\n",
        "  if predicted_label == true_label:\n",
        "    color = 'blue'\n",
        "  else:\n",
        "    color = 'red'\n",
        "\n",
        "  plt.xlabel(\"{} {:2.0f}% ({})\".format(class_names[predicted_label],\n",
        "                                100*np.max(predictions_array),\n",
        "                                class_names[true_label]),\n",
        "                                color=color)\n",
        "\n",
        "def plot_value_array(i, predictions_array, true_label):\n",
        "  predictions_array, true_label = predictions_array[i], true_label[i]\n",
        "  plt.grid(False)\n",
        "  plt.xticks([])\n",
        "  plt.yticks([])\n",
        "  thisplot = plt.bar(range(10), predictions_array, color=\"#777777\")\n",
        "  plt.ylim([0, 1])\n",
        "  predicted_label = np.argmax(predictions_array)\n",
        "\n",
        "  thisplot[predicted_label].set_color('red')\n",
        "  thisplot[true_label].set_color('blue')"
      ],
      "execution_count": 0,
      "outputs": []
    },
    {
      "cell_type": "markdown",
      "metadata": {
        "colab_type": "text",
        "id": "d4Ov9OFDMmOD"
      },
      "source": [
        "Давайте посмотрим на нулевое изображение, предсказание и массив предсказаний."
      ]
    },
    {
      "cell_type": "code",
      "metadata": {
        "colab_type": "code",
        "id": "HV5jw-5HwSmO",
        "colab": {}
      },
      "source": [
        "i = 0\n",
        "plt.figure(figsize=(6,3))\n",
        "plt.subplot(1,2,1)\n",
        "plot_image(i, predictions, np.argmax(test_labels, axis=1), np.squeeze(test_images, axis=3))\n",
        "plt.subplot(1,2,2)\n",
        "plot_value_array(i, predictions,  np.argmax(test_labels, axis=1))\n",
        "plt.show()"
      ],
      "execution_count": 0,
      "outputs": []
    },
    {
      "cell_type": "code",
      "metadata": {
        "colab_type": "code",
        "id": "Ko-uzOufSCSe",
        "colab": {}
      },
      "source": [
        "i = 12\n",
        "plt.figure(figsize=(6,3))\n",
        "plt.subplot(1,2,1)\n",
        "plot_image(i, predictions, np.argmax(test_labels, axis=1), np.squeeze(test_images, axis=3))\n",
        "plt.subplot(1,2,2)\n",
        "plot_value_array(i, predictions,  np.argmax(test_labels, axis=1))\n",
        "plt.show()"
      ],
      "execution_count": 0,
      "outputs": []
    },
    {
      "cell_type": "markdown",
      "metadata": {
        "colab_type": "text",
        "id": "kgdvGD52CaXR"
      },
      "source": [
        "Давайте посмотрим несколько изображений с их прогнозами. Цвет верных предсказаний синий, а неверных - красный. Число это процент уверенности (от 100) для предсказанной метки. Отметим, что модель может ошибаться даже если она очень уверена."
      ]
    },
    {
      "cell_type": "code",
      "metadata": {
        "colab_type": "code",
        "id": "hQlnbqaw2Qu_",
        "colab": {}
      },
      "source": [
        "# Отображаем первые X тестовых изображений, их предсказанную и настоящую метки.\n",
        "# Корректные предсказания окрашиваем в синий цвет, ошибочные в красный.\n",
        "num_rows = 5\n",
        "num_cols = 3\n",
        "num_images = num_rows*num_cols\n",
        "plt.figure(figsize=(2*2*num_cols, 2*num_rows))\n",
        "for i in range(num_images):\n",
        "  plt.subplot(num_rows, 2*num_cols, 2*i+1)\n",
        "  plot_image(i, predictions, np.argmax(test_labels, axis=1), np.squeeze(test_images, axis=3))\n",
        "  plt.subplot(num_rows, 2*num_cols, 2*i+2)\n",
        "  plot_value_array(i, predictions, np.argmax(test_labels, axis=1))\n",
        "plt.show()"
      ],
      "execution_count": 0,
      "outputs": []
    },
    {
      "cell_type": "markdown",
      "metadata": {
        "colab_type": "text",
        "id": "R32zteKHCaXT"
      },
      "source": [
        "Наконец, используем обученную модель для предсказания класса на одном изображении."
      ]
    },
    {
      "cell_type": "code",
      "metadata": {
        "colab_type": "code",
        "id": "yRJ7JU7JCaXT",
        "colab": {}
      },
      "source": [
        "# Берем одну картинку из проверочного сета.\n",
        "img = test_images[0]\n",
        "\n",
        "print(img.shape)"
      ],
      "execution_count": 0,
      "outputs": []
    },
    {
      "cell_type": "markdown",
      "metadata": {
        "colab_type": "text",
        "id": "vz3bVp21CaXV"
      },
      "source": [
        "Модели tf.keras оптимизированы для предсказаний на *пакетах (batch)* данных, или на множестве примеров сразу. Таким образом, даже если мы используем всего 1 картинку, нам все равно необходимо добавить ее в список:"
      ]
    },
    {
      "cell_type": "code",
      "metadata": {
        "colab_type": "code",
        "id": "lDFh5yF_CaXW",
        "colab": {}
      },
      "source": [
        "# Добавляем изображение в пакет данных, состоящий только из одного элемента.\n",
        "img = (np.expand_dims(img,0))\n",
        "\n",
        "print(img.shape)"
      ],
      "execution_count": 0,
      "outputs": []
    },
    {
      "cell_type": "markdown",
      "metadata": {
        "colab_type": "text",
        "id": "EQ5wLTkcCaXY"
      },
      "source": [
        "Сейчас предскажем правильную метку для изображения:"
      ]
    },
    {
      "cell_type": "code",
      "metadata": {
        "colab_type": "code",
        "id": "o_rzNSdrCaXY",
        "colab": {}
      },
      "source": [
        "predictions_single = model.predict(img)\n",
        "\n",
        "print(predictions_single)"
      ],
      "execution_count": 0,
      "outputs": []
    },
    {
      "cell_type": "code",
      "metadata": {
        "colab_type": "code",
        "id": "6Ai-cpLjO-3A",
        "colab": {}
      },
      "source": [
        "plot_value_array(0, predictions_single, np.argmax(test_labels, axis=1))\n",
        "_ = plt.xticks(range(10), class_names, rotation=45)"
      ],
      "execution_count": 0,
      "outputs": []
    },
    {
      "cell_type": "markdown",
      "metadata": {
        "colab_type": "text",
        "id": "cU1Y2OAMCaXb"
      },
      "source": [
        "Метод `model.predict` возвращает нам список списков, по одному для каждой картинки в пакете данных. Получите прогнозы для нашего (единственного) изображения в пакете:"
      ]
    },
    {
      "cell_type": "code",
      "metadata": {
        "colab_type": "code",
        "id": "2tRmdq_8CaXb",
        "colab": {}
      },
      "source": [
        "np.argmax(predictions_single[0])"
      ],
      "execution_count": 0,
      "outputs": []
    },
    {
      "cell_type": "markdown",
      "metadata": {
        "colab_type": "text",
        "id": "YFc2HbEVCaXd"
      },
      "source": [
        "И, как и ранее, модель предсказывает ***класс 1***."
      ]
    }
  ]
}